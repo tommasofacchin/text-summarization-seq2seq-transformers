{
 "cells": [
  {
   "cell_type": "markdown",
   "id": "0c3fbfac",
   "metadata": {
    "papermill": {
     "duration": 0.004679,
     "end_time": "2025-10-10T19:19:05.861100",
     "exception": false,
     "start_time": "2025-10-10T19:19:05.856421",
     "status": "completed"
    },
    "tags": []
   },
   "source": [
    "# Project Overview\n",
    "\n",
    "This project focuses on **text summarization** using two approaches: a traditional **Seq2Seq model** with LSTM and a **Transformer-based model**. The goal is to see how each model performs and understand the difference between step-by-step sequence processing and attention-based processing.\n",
    "\n",
    "### Steps in the Project\n",
    "1. **Dataset Preparation**  \n",
    "   - Load the XSum dataset with articles and summaries.  \n",
    "   - Tokenize and pad sequences so they can be fed into the models.\n",
    "\n",
    "2. **Seq2Seq Model (LSTM)**  \n",
    "   - Build an encoder-decoder model.  \n",
    "   - Train it to generate summaries from the input articles.  \n",
    "   - Use attention to help the model focus on relevant parts of the input.\n",
    "\n",
    "3. **Transformer Model**  \n",
    "   - Build a Transformer-based encoder-decoder model.  \n",
    "   - Use self-attention to capture relationships between all tokens.  \n",
    "   - Train on the same dataset to generate summaries.\n",
    "\n",
    "4. **Comparison**  \n",
    "   - Compare the two models using metrics like ROUGE.  \n",
    "   - Look at differences in summary quality, speed, and how well they handle long sequences."
   ]
  },
  {
   "cell_type": "markdown",
   "id": "074c18e3",
   "metadata": {
    "papermill": {
     "duration": 0.003536,
     "end_time": "2025-10-10T19:19:05.868792",
     "exception": false,
     "start_time": "2025-10-10T19:19:05.865256",
     "status": "completed"
    },
    "tags": []
   },
   "source": [
    "# Seq2Seq and Encoder-Decoder\n",
    "\n",
    "## What is a Seq2Seq Model\n",
    "A sequence-to-sequence (Seq2Seq) model is designed to take an input sequence and produce an output sequence. It’s widely used in tasks like machine translation, text summarization, and chatbots.\n",
    "\n",
    "**Example:**  \n",
    "Input: \"Hello, how are you?\"  \n",
    "Output: \"Ciao, come stai?\"\n",
    "\n",
    "## Encoder-Decoder Architecture (Expanded)\n",
    "\n",
    "A typical Seq2Seq model has two main parts: the **encoder** and the **decoder**. The design allows the model to process sequences of variable length.  \n",
    "\n",
    "### Encoder\n",
    "The encoder reads the input sequence and compresses it into a set of hidden states or a context vector. This vector captures the important information from the input and has a fixed size, though it does not need to match the decoder's size. The hidden states can either be passed as a whole to the decoder or connected at every decoding step.  \n",
    "\n",
    "At each step, the encoder updates its hidden state based on the previous hidden state and the current input. In mathematical terms, for a simple RNN:\n",
    "\n",
    "$$\n",
    "H_t^{encoder} = \\phi(W_{HH} \\cdot H_{t-1}^{encoder} + W_{HX} \\cdot X_t)\n",
    "$$\n",
    "\n",
    "Where:  \n",
    "- $H_t^{encoder}$ = hidden state at time $t$ in the encoder  \n",
    "- $X_t$ = input at time $t$  \n",
    "- $W_{HH}$ = weight matrix connecting hidden states  \n",
    "- $W_{HX}$ = weight matrix connecting input to hidden states  \n",
    "- $\\phi$ = activation function (e.g., tanh or ReLU)\n",
    "\n",
    "### Decoder\n",
    "The decoder generates the output sequence one token at a time. Its initial hidden state is set to the final hidden state of the encoder. For a simple RNN decoder:\n",
    "\n",
    "$$\n",
    "H_t^{decoder} = \\phi(W_{HH} \\cdot H_{t-1}^{decoder} + W_{HY} \\cdot Y_{t-1})\n",
    "$$\n",
    "\n",
    "The output at each step is computed as:\n",
    "\n",
    "$$\n",
    "Y_t = W_{HY} \\cdot H_t^{decoder}\n",
    "$$\n",
    "\n",
    "Where:  \n",
    "- $H_t^{decoder}$ = hidden state at time $t$ in the decoder  \n",
    "- $Y_t$ = output at time $t$  \n",
    "- $W_{HY}$ = weight matrix connecting decoder hidden state to output  \n",
    "\n",
    "### Implementation Notes\n",
    "- Encoders and decoders are typically implemented with **RNNs, LSTMs, or GRUs**.  \n",
    "- The input and output vectors are of fixed size, but the encoder and decoder can have different hidden dimensions.  \n",
    "- During training, **teacher forcing** is often used, providing the correct previous token to the decoder instead of its own prediction.  \n",
    "\n",
    "\n",
    "## Tokenization\n",
    "\n",
    "Before feeding text into a Seq2Seq or Transformer model, the raw text must be converted into numerical form.  \n",
    "This is done through **tokenization**, which splits text into smaller units (tokens) such as words or subwords.  \n",
    "\n",
    "Each token is then mapped to a unique integer using a **vocabulary** built from the dataset.  \n",
    "The model processes these integers rather than the raw text.\n",
    "\n",
    "**Example:**\n",
    "\n",
    "Input text: `\"Transformers improve summarization.\"`  \n",
    "Tokens: `[\"transformers\", \"improve\", \"summarization\", \".\"]`  \n",
    "Token IDs: `[201, 57, 1342, 4]`\n",
    "\n",
    "### Why Tokenization Matters\n",
    "- Converts variable-length text into consistent, model-readable sequences.  \n",
    "- Helps capture word frequency and context relationships.  \n",
    "- Reduces vocabulary size when using subword tokenization (e.g., Byte Pair Encoding).  \n",
    "\n",
    "In this project, tokenization is part of preprocessing and includes:\n",
    "- **Lowercasing** the text  \n",
    "- **Removing special characters and URLs**  \n",
    "- **Splitting into tokens by spaces**  \n",
    "- Adding **start (`sostok`)** and **end (`eostok`)** tokens to mark summary boundaries  \n",
    "\n",
    "```python\n",
    "def tokenize_texts(texts):\n",
    "    # Clean text and split into tokens by spaces\n",
    "    return [' '.join(clean_text(t).split()) for t in texts]\n",
    "\n",
    "# Example from preprocessing step\n",
    "processed_text = tokenize_texts(df['text'])\n",
    "processed_summary = ['sostok ' + s + ' eostok' for s in tokenize_texts(df['summary'])]\n",
    "\n",
    "```\n",
    "After tokenization, sequences will later be converted to integer IDs, padded or truncated to a fixed length\n",
    "\n",
    "\n",
    "## Attention\n",
    "In a basic Seq2Seq model, the encoder squashes the whole input document into a single **context vector**. That works okay for short texts, but with longer documents the decoder can easily “forget” important details.\n",
    "\n",
    "This is where an **attention mechanism** comes in. Instead of just using the encoder’s last hidden state, the decoder can look at **all the hidden states** of the encoder. At each step of generating the summary, it calculates **weights** for each input token to figure out which parts of the text are most relevant.\n",
    "\n",
    "Using attention usually improves the quality of the summaries, since the model can focus on the right parts of the input at the right time.  \n",
    "This idea is also the core of **Transformers**, which take it further with **self-attention**, letting all tokens interact at once and handle long sequences much better.\n",
    "\n",
    "### How Attention Works \n",
    "The key idea of attention is that the decoder doesn't have to rely solely on the last hidden state of the encoder. Instead, it looks at **all the hidden states** of the encoder and decides how much to focus on each one when predicting the next token.\n",
    "\n",
    "\n",
    "1. **Score Calculation**  \n",
    "   - For each decoder step, the model calculates a **score** for every encoder hidden state.  \n",
    "   - This score measures how relevant each input token is to the current token being generated.\n",
    "\n",
    "2. **Softmax to Get Weights**  \n",
    "   - The scores are passed through a **softmax function**, turning them into weights that sum to 1.  \n",
    "   - These weights tell the decoder how much attention to pay to each input token.\n",
    "\n",
    "3. **Context Vector**  \n",
    "   - The encoder hidden states are combined using these attention weights to form a **dynamic context vector**.  \n",
    "   - Unlike the single context vector in vanilla Seq2Seq, this vector changes at every decoder step depending on what the model is currently generating.\n",
    "\n",
    "4. **Decoder Output**  \n",
    "   - The context vector is then fed into the decoder (along with the previous token) to predict the next token.  \n",
    "   - This allows the decoder to “focus” on the most relevant parts of the input for each step.\n",
    "\n",
    "**Intuition:**  \n",
    "Think of it like reading a paragraph and highlighting the important words as you write a summary. The decoder “looks back” at all the input words and decides which ones matter most at each step.\n",
    "\n",
    "\n",
    "\n",
    "# Transformers\n",
    "Transformers can be seen as an evolution of Seq2Seq models, as they replace step-by-step LSTM/GRU processing with parallel attention-based mechanisms, allowing better handling of long sequences. They rely entirely on **attention mechanisms** to understand relationships between all tokens in the input at once.\n",
    "\n",
    "### Key Components\n",
    "- **Self-Attention:** Allows the model to weigh the importance of each token in the sequence relative to the others. This helps capture long-range dependencies better than RNNs.\n",
    "- **Encoder-Decoder Structure:** Like Seq2Seq models, Transformers have an encoder that processes the input and a decoder that generates the output. Both use layers of self-attention and feed-forward networks.\n",
    "- **Positional Encoding:** Since Transformers don’t process tokens sequentially, they add positional information so the model knows the order of tokens.\n",
    "\n",
    "### Advantages over LSTM/GRU Seq2Seq\n",
    "- Can process sequences **in parallel**, speeding up training.\n",
    "- Handle **long sequences** more effectively with attention.\n",
    "- Easier to scale to large datasets and very deep models.\n",
    "\n",
    "### Use Cases\n",
    "Transformers are the backbone of many state-of-the-art models for tasks such as:\n",
    "- Machine translation (e.g., T5, MarianMT)\n",
    "- Text summarization (e.g., BART, Pegasus)\n",
    "- Question answering and chatbots (e.g., GPT, BERT-based models)"
   ]
  },
  {
   "cell_type": "code",
   "execution_count": 1,
   "id": "6398def8",
   "metadata": {
    "execution": {
     "iopub.execute_input": "2025-10-10T19:19:05.877941Z",
     "iopub.status.busy": "2025-10-10T19:19:05.877558Z",
     "iopub.status.idle": "2025-10-10T19:19:05.886682Z",
     "shell.execute_reply": "2025-10-10T19:19:05.885792Z"
    },
    "papermill": {
     "duration": 0.0156,
     "end_time": "2025-10-10T19:19:05.888277",
     "exception": false,
     "start_time": "2025-10-10T19:19:05.872677",
     "status": "completed"
    },
    "tags": []
   },
   "outputs": [],
   "source": [
    "import os\n",
    "os.environ['TF_CPP_MIN_LOG_LEVEL'] = '2'"
   ]
  },
  {
   "cell_type": "markdown",
   "id": "53ba4426",
   "metadata": {
    "papermill": {
     "duration": 0.003523,
     "end_time": "2025-10-10T19:19:05.895945",
     "exception": false,
     "start_time": "2025-10-10T19:19:05.892422",
     "status": "completed"
    },
    "tags": []
   },
   "source": [
    "# **Data preparation**"
   ]
  },
  {
   "cell_type": "code",
   "execution_count": 2,
   "id": "325aad8c",
   "metadata": {
    "execution": {
     "iopub.execute_input": "2025-10-10T19:19:05.905662Z",
     "iopub.status.busy": "2025-10-10T19:19:05.905314Z",
     "iopub.status.idle": "2025-10-10T19:19:09.593876Z",
     "shell.execute_reply": "2025-10-10T19:19:09.592751Z"
    },
    "papermill": {
     "duration": 3.695293,
     "end_time": "2025-10-10T19:19:09.595514",
     "exception": false,
     "start_time": "2025-10-10T19:19:05.900221",
     "status": "completed"
    },
    "tags": []
   },
   "outputs": [
    {
     "name": "stdout",
     "output_type": "stream",
     "text": [
      "(4514, 6)\n",
      "(98401, 2)\n"
     ]
    }
   ],
   "source": [
    "import pandas as pd\n",
    "import numpy as np\n",
    "\n",
    "pd.set_option('display.max_colwidth', None)\n",
    "\n",
    "summary = pd.read_csv('/kaggle/input/news-summary/news_summary.csv', encoding='iso-8859-1')\n",
    "summary_more = pd.read_csv('/kaggle/input/news-summary/news_summary_more.csv', encoding='iso-8859-1')\n",
    "\n",
    "print(summary.shape)\n",
    "print(summary_more.shape)"
   ]
  },
  {
   "cell_type": "code",
   "execution_count": 3,
   "id": "b7095615",
   "metadata": {
    "execution": {
     "iopub.execute_input": "2025-10-10T19:19:09.605084Z",
     "iopub.status.busy": "2025-10-10T19:19:09.604760Z",
     "iopub.status.idle": "2025-10-10T19:19:09.630787Z",
     "shell.execute_reply": "2025-10-10T19:19:09.629881Z"
    },
    "papermill": {
     "duration": 0.032667,
     "end_time": "2025-10-10T19:19:09.632371",
     "exception": false,
     "start_time": "2025-10-10T19:19:09.599704",
     "status": "completed"
    },
    "tags": []
   },
   "outputs": [
    {
     "data": {
      "text/html": [
       "<div>\n",
       "<style scoped>\n",
       "    .dataframe tbody tr th:only-of-type {\n",
       "        vertical-align: middle;\n",
       "    }\n",
       "\n",
       "    .dataframe tbody tr th {\n",
       "        vertical-align: top;\n",
       "    }\n",
       "\n",
       "    .dataframe thead th {\n",
       "        text-align: right;\n",
       "    }\n",
       "</style>\n",
       "<table border=\"1\" class=\"dataframe\">\n",
       "  <thead>\n",
       "    <tr style=\"text-align: right;\">\n",
       "      <th></th>\n",
       "      <th>author</th>\n",
       "      <th>date</th>\n",
       "      <th>headlines</th>\n",
       "      <th>read_more</th>\n",
       "      <th>text</th>\n",
       "      <th>ctext</th>\n",
       "    </tr>\n",
       "  </thead>\n",
       "  <tbody>\n",
       "    <tr>\n",
       "      <th>0</th>\n",
       "      <td>Chhavi Tyagi</td>\n",
       "      <td>03 Aug 2017,Thursday</td>\n",
       "      <td>Daman &amp; Diu revokes mandatory Rakshabandhan in offices order</td>\n",
       "      <td>http://www.hindustantimes.com/india-news/rakshabandhan-compulsory-in-daman-and-diu-women-employees-to-tie-rakhis-to-male-colleagues/story-E5h5U1ZDJii5zFpLXWRkhJ.html?utm_source=inshorts&amp;utm_medium=referral&amp;utm_campaign=fullarticle</td>\n",
       "      <td>The Administration of Union Territory Daman and Diu has revoked its order that made it compulsory for women to tie rakhis to their male colleagues on the occasion of Rakshabandhan on August 7. The administration was forced to withdraw the decision within 24 hours of issuing the circular after it received flak from employees and was slammed on social media.</td>\n",
       "      <td>The Daman and Diu administration on Wednesday withdrew a circular that asked women staff to tie rakhis on male colleagues after the order triggered a backlash from employees and was ripped apart on social media.The union territory?s administration was forced to retreat within 24 hours of issuing the circular that made it compulsory for its staff to celebrate Rakshabandhan at workplace.?It has been decided to celebrate the festival of Rakshabandhan on August 7. In this connection, all offices/ departments shall remain open and celebrate the festival collectively at a suitable time wherein all the lady staff shall tie rakhis to their colleagues,? the order, issued on August 1 by Gurpreet Singh, deputy secretary (personnel), had said.To ensure that no one skipped office, an attendance report was to be sent to the government the next evening.The two notifications ? one mandating the celebration of Rakshabandhan (left) and the other withdrawing the mandate (right) ? were issued by the Daman and Diu administration a day apart. The circular was withdrawn through a one-line order issued late in the evening by the UT?s department of personnel and administrative reforms.?The circular is ridiculous. There are sensitivities involved. How can the government dictate who I should tie rakhi to? We should maintain the professionalism of a workplace? an official told Hindustan Times earlier in the day. She refused to be identified.The notice was issued on Daman and Diu administrator and former Gujarat home minister Praful Kodabhai Patel?s direction, sources said.Rakshabandhan, a celebration of the bond between brothers and sisters, is one of several Hindu festivities and rituals that are no longer confined of private, family affairs but have become tools to push politic al ideologies.In 2014, the year BJP stormed to power at the Centre, Rashtriya Swayamsevak Sangh (RSS) chief Mohan Bhagwat said the festival had ?national significance? and should be celebrated widely ?to protect Hindu culture and live by the values enshrined in it?. The RSS is the ideological parent of the ruling BJP.Last year, women ministers in the Modi government went to the border areas to celebrate the festival with soldiers. A year before, all cabinet ministers were asked to go to their constituencies for the festival.</td>\n",
       "    </tr>\n",
       "  </tbody>\n",
       "</table>\n",
       "</div>"
      ],
      "text/plain": [
       "         author                  date  \\\n",
       "0  Chhavi Tyagi  03 Aug 2017,Thursday   \n",
       "\n",
       "                                                      headlines  \\\n",
       "0  Daman & Diu revokes mandatory Rakshabandhan in offices order   \n",
       "\n",
       "                                                                                                                                                                                                                                 read_more  \\\n",
       "0  http://www.hindustantimes.com/india-news/rakshabandhan-compulsory-in-daman-and-diu-women-employees-to-tie-rakhis-to-male-colleagues/story-E5h5U1ZDJii5zFpLXWRkhJ.html?utm_source=inshorts&utm_medium=referral&utm_campaign=fullarticle    \n",
       "\n",
       "                                                                                                                                                                                                                                                                                                                                                                     text  \\\n",
       "0  The Administration of Union Territory Daman and Diu has revoked its order that made it compulsory for women to tie rakhis to their male colleagues on the occasion of Rakshabandhan on August 7. The administration was forced to withdraw the decision within 24 hours of issuing the circular after it received flak from employees and was slammed on social media.   \n",
       "\n",
       "                                                                                                                                                                                                                                                                                                                                                                                                                                                                                                                                                                                                                                                                                                                                                                                                                                                                                                                                                                                                                                                                                                                                                                                                                                                                                                                                                                                                                                                                                                                                                                                                                                                                                                                                                                                                                                                                                                                                                                                                                                                                                                                                                                                                                                                                                                                                                                                                       ctext  \n",
       "0  The Daman and Diu administration on Wednesday withdrew a circular that asked women staff to tie rakhis on male colleagues after the order triggered a backlash from employees and was ripped apart on social media.The union territory?s administration was forced to retreat within 24 hours of issuing the circular that made it compulsory for its staff to celebrate Rakshabandhan at workplace.?It has been decided to celebrate the festival of Rakshabandhan on August 7. In this connection, all offices/ departments shall remain open and celebrate the festival collectively at a suitable time wherein all the lady staff shall tie rakhis to their colleagues,? the order, issued on August 1 by Gurpreet Singh, deputy secretary (personnel), had said.To ensure that no one skipped office, an attendance report was to be sent to the government the next evening.The two notifications ? one mandating the celebration of Rakshabandhan (left) and the other withdrawing the mandate (right) ? were issued by the Daman and Diu administration a day apart. The circular was withdrawn through a one-line order issued late in the evening by the UT?s department of personnel and administrative reforms.?The circular is ridiculous. There are sensitivities involved. How can the government dictate who I should tie rakhi to? We should maintain the professionalism of a workplace? an official told Hindustan Times earlier in the day. She refused to be identified.The notice was issued on Daman and Diu administrator and former Gujarat home minister Praful Kodabhai Patel?s direction, sources said.Rakshabandhan, a celebration of the bond between brothers and sisters, is one of several Hindu festivities and rituals that are no longer confined of private, family affairs but have become tools to push politic al ideologies.In 2014, the year BJP stormed to power at the Centre, Rashtriya Swayamsevak Sangh (RSS) chief Mohan Bhagwat said the festival had ?national significance? and should be celebrated widely ?to protect Hindu culture and live by the values enshrined in it?. The RSS is the ideological parent of the ruling BJP.Last year, women ministers in the Modi government went to the border areas to celebrate the festival with soldiers. A year before, all cabinet ministers were asked to go to their constituencies for the festival.  "
      ]
     },
     "execution_count": 3,
     "metadata": {},
     "output_type": "execute_result"
    }
   ],
   "source": [
    "summary.head(1)"
   ]
  },
  {
   "cell_type": "code",
   "execution_count": 4,
   "id": "d4a00c1b",
   "metadata": {
    "execution": {
     "iopub.execute_input": "2025-10-10T19:19:09.642183Z",
     "iopub.status.busy": "2025-10-10T19:19:09.641892Z",
     "iopub.status.idle": "2025-10-10T19:19:09.650518Z",
     "shell.execute_reply": "2025-10-10T19:19:09.649639Z"
    },
    "papermill": {
     "duration": 0.015258,
     "end_time": "2025-10-10T19:19:09.652111",
     "exception": false,
     "start_time": "2025-10-10T19:19:09.636853",
     "status": "completed"
    },
    "tags": []
   },
   "outputs": [
    {
     "data": {
      "text/html": [
       "<div>\n",
       "<style scoped>\n",
       "    .dataframe tbody tr th:only-of-type {\n",
       "        vertical-align: middle;\n",
       "    }\n",
       "\n",
       "    .dataframe tbody tr th {\n",
       "        vertical-align: top;\n",
       "    }\n",
       "\n",
       "    .dataframe thead th {\n",
       "        text-align: right;\n",
       "    }\n",
       "</style>\n",
       "<table border=\"1\" class=\"dataframe\">\n",
       "  <thead>\n",
       "    <tr style=\"text-align: right;\">\n",
       "      <th></th>\n",
       "      <th>headlines</th>\n",
       "      <th>text</th>\n",
       "    </tr>\n",
       "  </thead>\n",
       "  <tbody>\n",
       "    <tr>\n",
       "      <th>0</th>\n",
       "      <td>upGrad learner switches to career in ML &amp; Al with 90% salary hike</td>\n",
       "      <td>Saurav Kant, an alumnus of upGrad and IIIT-B's PG Program in Machine learning and Artificial Intelligence, was a Sr Systems Engineer at Infosys with almost 5 years of work experience. The program and upGrad's 360-degree career support helped him transition to a Data Scientist at Tech Mahindra with 90% salary hike. upGrad's Online Power Learning has powered 3 lakh+ careers.</td>\n",
       "    </tr>\n",
       "  </tbody>\n",
       "</table>\n",
       "</div>"
      ],
      "text/plain": [
       "                                                           headlines  \\\n",
       "0  upGrad learner switches to career in ML & Al with 90% salary hike   \n",
       "\n",
       "                                                                                                                                                                                                                                                                                                                                                                                      text  \n",
       "0  Saurav Kant, an alumnus of upGrad and IIIT-B's PG Program in Machine learning and Artificial Intelligence, was a Sr Systems Engineer at Infosys with almost 5 years of work experience. The program and upGrad's 360-degree career support helped him transition to a Data Scientist at Tech Mahindra with 90% salary hike. upGrad's Online Power Learning has powered 3 lakh+ careers.  "
      ]
     },
     "execution_count": 4,
     "metadata": {},
     "output_type": "execute_result"
    }
   ],
   "source": [
    "\n",
    "summary_more.head(1)"
   ]
  },
  {
   "cell_type": "code",
   "execution_count": 5,
   "id": "b84ed003",
   "metadata": {
    "execution": {
     "iopub.execute_input": "2025-10-10T19:19:09.662595Z",
     "iopub.status.busy": "2025-10-10T19:19:09.662314Z",
     "iopub.status.idle": "2025-10-10T19:19:09.716736Z",
     "shell.execute_reply": "2025-10-10T19:19:09.715793Z"
    },
    "papermill": {
     "duration": 0.061541,
     "end_time": "2025-10-10T19:19:09.718151",
     "exception": false,
     "start_time": "2025-10-10T19:19:09.656610",
     "status": "completed"
    },
    "tags": []
   },
   "outputs": [
    {
     "name": "stdout",
     "output_type": "stream",
     "text": [
      "(102915, 2)\n"
     ]
    },
    {
     "data": {
      "text/html": [
       "<div>\n",
       "<style scoped>\n",
       "    .dataframe tbody tr th:only-of-type {\n",
       "        vertical-align: middle;\n",
       "    }\n",
       "\n",
       "    .dataframe tbody tr th {\n",
       "        vertical-align: top;\n",
       "    }\n",
       "\n",
       "    .dataframe thead th {\n",
       "        text-align: right;\n",
       "    }\n",
       "</style>\n",
       "<table border=\"1\" class=\"dataframe\">\n",
       "  <thead>\n",
       "    <tr style=\"text-align: right;\">\n",
       "      <th></th>\n",
       "      <th>text</th>\n",
       "      <th>summary</th>\n",
       "    </tr>\n",
       "  </thead>\n",
       "  <tbody>\n",
       "    <tr>\n",
       "      <th>0</th>\n",
       "      <td>Saurav Kant, an alumnus of upGrad and IIIT-B's PG Program in Machine learning and Artificial Intelligence, was a Sr Systems Engineer at Infosys with almost 5 years of work experience. The program and upGrad's 360-degree career support helped him transition to a Data Scientist at Tech Mahindra with 90% salary hike. upGrad's Online Power Learning has powered 3 lakh+ careers.</td>\n",
       "      <td>upGrad learner switches to career in ML &amp; Al with 90% salary hike</td>\n",
       "    </tr>\n",
       "    <tr>\n",
       "      <th>1</th>\n",
       "      <td>Kunal Shah's credit card bill payment platform, CRED, gave users a chance to win free food from Swiggy for one year. Pranav Kaushik, a Delhi techie, bagged this reward after spending 2000 CRED coins. Users get one CRED coin per rupee of bill paid, which can be used to avail rewards from brands like Ixigo, BookMyShow, UberEats, Cult.Fit and more.</td>\n",
       "      <td>Delhi techie wins free food from Swiggy for one year on CRED</td>\n",
       "    </tr>\n",
       "  </tbody>\n",
       "</table>\n",
       "</div>"
      ],
      "text/plain": [
       "                                                                                                                                                                                                                                                                                                                                                                                      text  \\\n",
       "0  Saurav Kant, an alumnus of upGrad and IIIT-B's PG Program in Machine learning and Artificial Intelligence, was a Sr Systems Engineer at Infosys with almost 5 years of work experience. The program and upGrad's 360-degree career support helped him transition to a Data Scientist at Tech Mahindra with 90% salary hike. upGrad's Online Power Learning has powered 3 lakh+ careers.   \n",
       "1                              Kunal Shah's credit card bill payment platform, CRED, gave users a chance to win free food from Swiggy for one year. Pranav Kaushik, a Delhi techie, bagged this reward after spending 2000 CRED coins. Users get one CRED coin per rupee of bill paid, which can be used to avail rewards from brands like Ixigo, BookMyShow, UberEats, Cult.Fit and more.   \n",
       "\n",
       "                                                             summary  \n",
       "0  upGrad learner switches to career in ML & Al with 90% salary hike  \n",
       "1       Delhi techie wins free food from Swiggy for one year on CRED  "
      ]
     },
     "execution_count": 5,
     "metadata": {},
     "output_type": "execute_result"
    }
   ],
   "source": [
    "summary = summary.iloc[:, 0:6]\n",
    "summary_more = summary_more.iloc[:, 0:2]\n",
    "\n",
    "# To increase the intake of possible text values to build a reliable model\n",
    "summary['text'] = (\n",
    "    summary['author'] + ' ' +\n",
    "    summary['date'] + ' ' +\n",
    "    summary['read_more'] + ' ' +\n",
    "    summary['text'] + ' ' +\n",
    "    summary['ctext']\n",
    ")\n",
    "\n",
    "\n",
    "df = pd.DataFrame()\n",
    "\n",
    "df['text'] = pd.concat([summary_more['text'], summary['text']], ignore_index=True)\n",
    "df['summary'] = pd.concat([summary_more['headlines'], summary['headlines']], ignore_index=True)\n",
    "\n",
    "print(df.shape)\n",
    "df.head(2)"
   ]
  },
  {
   "cell_type": "code",
   "execution_count": 6,
   "id": "451912bd",
   "metadata": {
    "execution": {
     "iopub.execute_input": "2025-10-10T19:19:09.729281Z",
     "iopub.status.busy": "2025-10-10T19:19:09.728481Z",
     "iopub.status.idle": "2025-10-10T19:19:14.611448Z",
     "shell.execute_reply": "2025-10-10T19:19:14.610535Z"
    },
    "papermill": {
     "duration": 4.890196,
     "end_time": "2025-10-10T19:19:14.613113",
     "exception": false,
     "start_time": "2025-10-10T19:19:09.722917",
     "status": "completed"
    },
    "tags": []
   },
   "outputs": [],
   "source": [
    "import re\n",
    "\n",
    "def clean_text(text):\n",
    "    \"\"\"\n",
    "    - converts to lowercase\n",
    "    - removes special characters\n",
    "    - replaces URLs with domain names\n",
    "    - reduces multiple spaces\n",
    "    \"\"\"\n",
    "    text = str(text).lower()\n",
    "    text = re.sub(r'https?://([^/\\s]+).*', r'\\1', text)\n",
    "    text = re.sub(r'[^a-z0-9\\s]', ' ', text)\n",
    "    text = re.sub(r'\\s+', ' ', text).strip()\n",
    "    \n",
    "    return text\n",
    "\n",
    "# Tokenization: split text by spaces\n",
    "def tokenize_texts(texts):\n",
    "    return [' '.join(clean_text(t).split()) for t in texts]\n",
    "\n",
    "\n",
    "processed_text = tokenize_texts(df['text'])\n",
    "processed_summary = ['_START_ ' + s + ' _END_' for s in tokenize_texts(df['summary'])]\n",
    "\n",
    "df['cleaned_text'] = pd.Series(processed_text)\n",
    "df['cleaned_summary'] = pd.Series(processed_summary)"
   ]
  },
  {
   "cell_type": "code",
   "execution_count": 7,
   "id": "4067df38",
   "metadata": {
    "execution": {
     "iopub.execute_input": "2025-10-10T19:19:14.625191Z",
     "iopub.status.busy": "2025-10-10T19:19:14.624580Z",
     "iopub.status.idle": "2025-10-10T19:19:14.713015Z",
     "shell.execute_reply": "2025-10-10T19:19:14.711797Z"
    },
    "papermill": {
     "duration": 0.096651,
     "end_time": "2025-10-10T19:19:14.714648",
     "exception": false,
     "start_time": "2025-10-10T19:19:14.617997",
     "status": "completed"
    },
    "tags": []
   },
   "outputs": [
    {
     "name": "stdout",
     "output_type": "stream",
     "text": [
      "NaN dropped: 118\n",
      "(102797, 4)\n"
     ]
    }
   ],
   "source": [
    "print(f\"NaN dropped: {df.isna().sum().sum()}\")\n",
    "\n",
    "df = df.dropna(subset=['text'])\n",
    "\n",
    "print(df.shape)"
   ]
  },
  {
   "cell_type": "code",
   "execution_count": 8,
   "id": "4cf45192",
   "metadata": {
    "execution": {
     "iopub.execute_input": "2025-10-10T19:19:14.725429Z",
     "iopub.status.busy": "2025-10-10T19:19:14.725085Z",
     "iopub.status.idle": "2025-10-10T19:19:14.735133Z",
     "shell.execute_reply": "2025-10-10T19:19:14.734318Z"
    },
    "papermill": {
     "duration": 0.017436,
     "end_time": "2025-10-10T19:19:14.736802",
     "exception": false,
     "start_time": "2025-10-10T19:19:14.719366",
     "status": "completed"
    },
    "tags": []
   },
   "outputs": [
    {
     "data": {
      "text/html": [
       "<div>\n",
       "<style scoped>\n",
       "    .dataframe tbody tr th:only-of-type {\n",
       "        vertical-align: middle;\n",
       "    }\n",
       "\n",
       "    .dataframe tbody tr th {\n",
       "        vertical-align: top;\n",
       "    }\n",
       "\n",
       "    .dataframe thead th {\n",
       "        text-align: right;\n",
       "    }\n",
       "</style>\n",
       "<table border=\"1\" class=\"dataframe\">\n",
       "  <thead>\n",
       "    <tr style=\"text-align: right;\">\n",
       "      <th></th>\n",
       "      <th>text</th>\n",
       "      <th>summary</th>\n",
       "      <th>cleaned_text</th>\n",
       "      <th>cleaned_summary</th>\n",
       "    </tr>\n",
       "  </thead>\n",
       "  <tbody>\n",
       "    <tr>\n",
       "      <th>0</th>\n",
       "      <td>Saurav Kant, an alumnus of upGrad and IIIT-B's PG Program in Machine learning and Artificial Intelligence, was a Sr Systems Engineer at Infosys with almost 5 years of work experience. The program and upGrad's 360-degree career support helped him transition to a Data Scientist at Tech Mahindra with 90% salary hike. upGrad's Online Power Learning has powered 3 lakh+ careers.</td>\n",
       "      <td>upGrad learner switches to career in ML &amp; Al with 90% salary hike</td>\n",
       "      <td>saurav kant an alumnus of upgrad and iiit b s pg program in machine learning and artificial intelligence was a sr systems engineer at infosys with almost 5 years of work experience the program and upgrad s 360 degree career support helped him transition to a data scientist at tech mahindra with 90 salary hike upgrad s online power learning has powered 3 lakh careers</td>\n",
       "      <td>_START_ upgrad learner switches to career in ml al with 90 salary hike _END_</td>\n",
       "    </tr>\n",
       "    <tr>\n",
       "      <th>1</th>\n",
       "      <td>Kunal Shah's credit card bill payment platform, CRED, gave users a chance to win free food from Swiggy for one year. Pranav Kaushik, a Delhi techie, bagged this reward after spending 2000 CRED coins. Users get one CRED coin per rupee of bill paid, which can be used to avail rewards from brands like Ixigo, BookMyShow, UberEats, Cult.Fit and more.</td>\n",
       "      <td>Delhi techie wins free food from Swiggy for one year on CRED</td>\n",
       "      <td>kunal shah s credit card bill payment platform cred gave users a chance to win free food from swiggy for one year pranav kaushik a delhi techie bagged this reward after spending 2000 cred coins users get one cred coin per rupee of bill paid which can be used to avail rewards from brands like ixigo bookmyshow ubereats cult fit and more</td>\n",
       "      <td>_START_ delhi techie wins free food from swiggy for one year on cred _END_</td>\n",
       "    </tr>\n",
       "  </tbody>\n",
       "</table>\n",
       "</div>"
      ],
      "text/plain": [
       "                                                                                                                                                                                                                                                                                                                                                                                      text  \\\n",
       "0  Saurav Kant, an alumnus of upGrad and IIIT-B's PG Program in Machine learning and Artificial Intelligence, was a Sr Systems Engineer at Infosys with almost 5 years of work experience. The program and upGrad's 360-degree career support helped him transition to a Data Scientist at Tech Mahindra with 90% salary hike. upGrad's Online Power Learning has powered 3 lakh+ careers.   \n",
       "1                              Kunal Shah's credit card bill payment platform, CRED, gave users a chance to win free food from Swiggy for one year. Pranav Kaushik, a Delhi techie, bagged this reward after spending 2000 CRED coins. Users get one CRED coin per rupee of bill paid, which can be used to avail rewards from brands like Ixigo, BookMyShow, UberEats, Cult.Fit and more.   \n",
       "\n",
       "                                                             summary  \\\n",
       "0  upGrad learner switches to career in ML & Al with 90% salary hike   \n",
       "1       Delhi techie wins free food from Swiggy for one year on CRED   \n",
       "\n",
       "                                                                                                                                                                                                                                                                                                                                                                       cleaned_text  \\\n",
       "0  saurav kant an alumnus of upgrad and iiit b s pg program in machine learning and artificial intelligence was a sr systems engineer at infosys with almost 5 years of work experience the program and upgrad s 360 degree career support helped him transition to a data scientist at tech mahindra with 90 salary hike upgrad s online power learning has powered 3 lakh careers   \n",
       "1                                  kunal shah s credit card bill payment platform cred gave users a chance to win free food from swiggy for one year pranav kaushik a delhi techie bagged this reward after spending 2000 cred coins users get one cred coin per rupee of bill paid which can be used to avail rewards from brands like ixigo bookmyshow ubereats cult fit and more   \n",
       "\n",
       "                                                                cleaned_summary  \n",
       "0  _START_ upgrad learner switches to career in ml al with 90 salary hike _END_  \n",
       "1    _START_ delhi techie wins free food from swiggy for one year on cred _END_  "
      ]
     },
     "execution_count": 8,
     "metadata": {},
     "output_type": "execute_result"
    }
   ],
   "source": [
    "df.head(2)"
   ]
  },
  {
   "cell_type": "code",
   "execution_count": 9,
   "id": "c68e5bdc",
   "metadata": {
    "execution": {
     "iopub.execute_input": "2025-10-10T19:19:14.748198Z",
     "iopub.status.busy": "2025-10-10T19:19:14.747908Z",
     "iopub.status.idle": "2025-10-10T19:19:15.894958Z",
     "shell.execute_reply": "2025-10-10T19:19:15.893980Z"
    },
    "papermill": {
     "duration": 1.154484,
     "end_time": "2025-10-10T19:19:15.896660",
     "exception": false,
     "start_time": "2025-10-10T19:19:14.742176",
     "status": "completed"
    },
    "tags": []
   },
   "outputs": [
    {
     "data": {
      "image/png": "[encoded data removed]",
      "text/plain": [
       "<Figure size 640x480 with 2 Axes>"
      ]
     },
     "metadata": {},
     "output_type": "display_data"
    }
   ],
   "source": [
    "import matplotlib.pyplot as plt\n",
    "\n",
    "text_count = []\n",
    "summary_count = []\n",
    "\n",
    "for sent in df['cleaned_text']:\n",
    "    text_count.append(len(sent.split()))\n",
    "    \n",
    "for sent in df['cleaned_summary']:\n",
    "    summary_count.append(len(sent.split()))\n",
    "\n",
    "graph_df = pd.DataFrame() \n",
    "\n",
    "graph_df['text'] = text_count\n",
    "graph_df['summary'] = summary_count\n",
    "\n",
    "graph_df.hist(bins = 30)\n",
    "plt.show()"
   ]
  },
  {
   "cell_type": "code",
   "execution_count": 10,
   "id": "16764f69",
   "metadata": {
    "execution": {
     "iopub.execute_input": "2025-10-10T19:19:15.909401Z",
     "iopub.status.busy": "2025-10-10T19:19:15.909015Z",
     "iopub.status.idle": "2025-10-10T19:19:16.294757Z",
     "shell.execute_reply": "2025-10-10T19:19:16.293721Z"
    },
    "papermill": {
     "duration": 0.394052,
     "end_time": "2025-10-10T19:19:16.296337",
     "exception": false,
     "start_time": "2025-10-10T19:19:15.902285",
     "status": "completed"
    },
    "tags": []
   },
   "outputs": [
    {
     "name": "stdout",
     "output_type": "stream",
     "text": [
      "Percentage of texts with less than 100 words : 0.9988715623996809\n"
     ]
    }
   ],
   "source": [
    "cnt = 0\n",
    "for i in df['cleaned_text']:\n",
    "    if len(i.split()) <= 100:\n",
    "        cnt = cnt + 1\n",
    "print(f\"Percentage of texts with less than 100 words : {cnt / len(df['cleaned_text'])}\")"
   ]
  },
  {
   "cell_type": "code",
   "execution_count": 11,
   "id": "769718db",
   "metadata": {
    "execution": {
     "iopub.execute_input": "2025-10-10T19:19:16.308623Z",
     "iopub.status.busy": "2025-10-10T19:19:16.308328Z",
     "iopub.status.idle": "2025-10-10T19:19:18.197179Z",
     "shell.execute_reply": "2025-10-10T19:19:18.196300Z"
    },
    "papermill": {
     "duration": 1.897009,
     "end_time": "2025-10-10T19:19:18.198929",
     "exception": false,
     "start_time": "2025-10-10T19:19:16.301920",
     "status": "completed"
    },
    "tags": []
   },
   "outputs": [
    {
     "data": {
      "text/html": [
       "<div>\n",
       "<style scoped>\n",
       "    .dataframe tbody tr th:only-of-type {\n",
       "        vertical-align: middle;\n",
       "    }\n",
       "\n",
       "    .dataframe tbody tr th {\n",
       "        vertical-align: top;\n",
       "    }\n",
       "\n",
       "    .dataframe thead th {\n",
       "        text-align: right;\n",
       "    }\n",
       "</style>\n",
       "<table border=\"1\" class=\"dataframe\">\n",
       "  <thead>\n",
       "    <tr style=\"text-align: right;\">\n",
       "      <th></th>\n",
       "      <th>text</th>\n",
       "      <th>summary</th>\n",
       "      <th>cleaned_text</th>\n",
       "      <th>cleaned_summary</th>\n",
       "    </tr>\n",
       "  </thead>\n",
       "  <tbody>\n",
       "    <tr>\n",
       "      <th>0</th>\n",
       "      <td>Saurav Kant, an alumnus of upGrad and IIIT-B's PG Program in Machine learning and Artificial Intelligence, was a Sr Systems Engineer at Infosys with almost 5 years of work experience. The program and upGrad's 360-degree career support helped him transition to a Data Scientist at Tech Mahindra with 90% salary hike. upGrad's Online Power Learning has powered 3 lakh+ careers.</td>\n",
       "      <td>sostok upGrad learner switches to career in ML &amp; Al with 90% salary hike eostok</td>\n",
       "      <td>saurav kant an alumnus of upgrad and iiit b s pg program in machine learning and artificial intelligence was a sr systems engineer at infosys with almost 5 years of work experience the program and upgrad s 360 degree career support helped him transition to a data scientist at tech mahindra with 90 salary hike upgrad s online power learning has powered 3 lakh careers</td>\n",
       "      <td>_START_ upgrad learner switches to career in ml al with 90 salary hike _END_</td>\n",
       "    </tr>\n",
       "    <tr>\n",
       "      <th>1</th>\n",
       "      <td>Kunal Shah's credit card bill payment platform, CRED, gave users a chance to win free food from Swiggy for one year. Pranav Kaushik, a Delhi techie, bagged this reward after spending 2000 CRED coins. Users get one CRED coin per rupee of bill paid, which can be used to avail rewards from brands like Ixigo, BookMyShow, UberEats, Cult.Fit and more.</td>\n",
       "      <td>sostok Delhi techie wins free food from Swiggy for one year on CRED eostok</td>\n",
       "      <td>kunal shah s credit card bill payment platform cred gave users a chance to win free food from swiggy for one year pranav kaushik a delhi techie bagged this reward after spending 2000 cred coins users get one cred coin per rupee of bill paid which can be used to avail rewards from brands like ixigo bookmyshow ubereats cult fit and more</td>\n",
       "      <td>_START_ delhi techie wins free food from swiggy for one year on cred _END_</td>\n",
       "    </tr>\n",
       "  </tbody>\n",
       "</table>\n",
       "</div>"
      ],
      "text/plain": [
       "                                                                                                                                                                                                                                                                                                                                                                                      text  \\\n",
       "0  Saurav Kant, an alumnus of upGrad and IIIT-B's PG Program in Machine learning and Artificial Intelligence, was a Sr Systems Engineer at Infosys with almost 5 years of work experience. The program and upGrad's 360-degree career support helped him transition to a Data Scientist at Tech Mahindra with 90% salary hike. upGrad's Online Power Learning has powered 3 lakh+ careers.   \n",
       "1                              Kunal Shah's credit card bill payment platform, CRED, gave users a chance to win free food from Swiggy for one year. Pranav Kaushik, a Delhi techie, bagged this reward after spending 2000 CRED coins. Users get one CRED coin per rupee of bill paid, which can be used to avail rewards from brands like Ixigo, BookMyShow, UberEats, Cult.Fit and more.   \n",
       "\n",
       "                                                                           summary  \\\n",
       "0  sostok upGrad learner switches to career in ML & Al with 90% salary hike eostok   \n",
       "1       sostok Delhi techie wins free food from Swiggy for one year on CRED eostok   \n",
       "\n",
       "                                                                                                                                                                                                                                                                                                                                                                       cleaned_text  \\\n",
       "0  saurav kant an alumnus of upgrad and iiit b s pg program in machine learning and artificial intelligence was a sr systems engineer at infosys with almost 5 years of work experience the program and upgrad s 360 degree career support helped him transition to a data scientist at tech mahindra with 90 salary hike upgrad s online power learning has powered 3 lakh careers   \n",
       "1                                  kunal shah s credit card bill payment platform cred gave users a chance to win free food from swiggy for one year pranav kaushik a delhi techie bagged this reward after spending 2000 cred coins users get one cred coin per rupee of bill paid which can be used to avail rewards from brands like ixigo bookmyshow ubereats cult fit and more   \n",
       "\n",
       "                                                                cleaned_summary  \n",
       "0  _START_ upgrad learner switches to career in ml al with 90 salary hike _END_  \n",
       "1    _START_ delhi techie wins free food from swiggy for one year on cred _END_  "
      ]
     },
     "execution_count": 11,
     "metadata": {},
     "output_type": "execute_result"
    }
   ],
   "source": [
    "max_text_len = 100\n",
    "max_summary_len = 15\n",
    "\n",
    "df['cleaned_text'] = df['cleaned_text'].astype(str)\n",
    "df['cleaned_summary'] = df['cleaned_summary'].astype(str)\n",
    "\n",
    "mask = (df['cleaned_text'].str.split().str.len() <= max_text_len) & \\\n",
    "       (df['cleaned_summary'].str.split().str.len() <= max_summary_len)\n",
    "\n",
    "df = df.loc[mask].reset_index(drop=True)\n",
    "\n",
    "# Add start and end tokens to each summary\n",
    "df['summary'] = df['summary'].apply(lambda x: 'sostok ' + x + ' eostok')\n",
    "\n",
    "df.head(2)"
   ]
  },
  {
   "cell_type": "markdown",
   "id": "65c49f20",
   "metadata": {
    "papermill": {
     "duration": 0.005406,
     "end_time": "2025-10-10T19:19:18.210256",
     "exception": false,
     "start_time": "2025-10-10T19:19:18.204850",
     "status": "completed"
    },
    "tags": []
   },
   "source": [
    "# **Tokenization**\n",
    "\n",
    "This block prepares the text data for a sequence-to-sequence model:\n",
    "\n",
    "- **Split dataset**: Separates `text` and `summary` into training and validation sets to evaluate model performance on unseen data.  \n",
    "- **Initialize tokenizers**: Converts words into integer indices, which neural networks can process.  \n",
    "- **Analyze rare words**: Computes the percentage of words appearing less than `thresh` times to identify infrequent words that might add noise.  \n",
    "- **Limit vocabulary to frequent words**: Reduces vocabulary size by ignoring rare words, which improves training efficiency and prevents overfitting.  \n",
    "- **Convert texts to sequences**: Maps each word in the texts to its corresponding integer index.  \n",
    "- **Pad sequences**: Ensures all sequences have the same length, necessary for batch processing in neural networks.  \n",
    "- **Compute final vocabulary size**: Includes the padding token to correctly define the input dimension for the model embedding layer."
   ]
  },
  {
   "cell_type": "code",
   "execution_count": 12,
   "id": "db8cbab7",
   "metadata": {
    "execution": {
     "iopub.execute_input": "2025-10-10T19:19:18.223396Z",
     "iopub.status.busy": "2025-10-10T19:19:18.223068Z",
     "iopub.status.idle": "2025-10-10T19:19:45.274487Z",
     "shell.execute_reply": "2025-10-10T19:19:45.273493Z"
    },
    "papermill": {
     "duration": 27.060507,
     "end_time": "2025-10-10T19:19:45.276289",
     "exception": false,
     "start_time": "2025-10-10T19:19:18.215782",
     "status": "completed"
    },
    "tags": []
   },
   "outputs": [
    {
     "name": "stderr",
     "output_type": "stream",
     "text": [
      "2025-10-10 19:19:21.855511: E external/local_xla/xla/stream_executor/cuda/cuda_fft.cc:477] Unable to register cuFFT factory: Attempting to register factory for plugin cuFFT when one has already been registered\n",
      "WARNING: All log messages before absl::InitializeLog() is called are written to STDERR\n",
      "E0000 00:00:1760123962.107606      13 cuda_dnn.cc:8310] Unable to register cuDNN factory: Attempting to register factory for plugin cuDNN when one has already been registered\n",
      "E0000 00:00:1760123962.173905      13 cuda_blas.cc:1418] Unable to register cuBLAS factory: Attempting to register factory for plugin cuBLAS when one has already been registered\n"
     ]
    }
   ],
   "source": [
    "from sklearn.model_selection import train_test_split\n",
    "from tensorflow.keras.preprocessing.text import Tokenizer \n",
    "from tensorflow.keras.preprocessing.sequence import pad_sequences\n",
    "\n",
    "x_train, x_val, y_train, y_val = train_test_split(\n",
    "    np.array(df[\"text\"]),\n",
    "    np.array(df[\"summary\"]),\n",
    "    test_size=0.1,\n",
    "    random_state=0,\n",
    "    shuffle=True,\n",
    ")\n",
    "\n",
    "x_tokenizer = Tokenizer() \n",
    "x_tokenizer.fit_on_texts(list(x_train))\n",
    "\n",
    "y_tokenizer = Tokenizer()   \n",
    "y_tokenizer.fit_on_texts(list(y_train))"
   ]
  },
  {
   "cell_type": "code",
   "execution_count": 13,
   "id": "f38f8d1a",
   "metadata": {
    "execution": {
     "iopub.execute_input": "2025-10-10T19:19:45.290105Z",
     "iopub.status.busy": "2025-10-10T19:19:45.289467Z",
     "iopub.status.idle": "2025-10-10T19:19:45.352456Z",
     "shell.execute_reply": "2025-10-10T19:19:45.351304Z"
    },
    "papermill": {
     "duration": 0.071741,
     "end_time": "2025-10-10T19:19:45.354176",
     "exception": false,
     "start_time": "2025-10-10T19:19:45.282435",
     "status": "completed"
    },
    "tags": []
   },
   "outputs": [
    {
     "name": "stdout",
     "output_type": "stream",
     "text": [
      "% of rare words in X vocabulary: 68.39%\n",
      "% of rare words in Y vocabulary: 68.00%\n"
     ]
    }
   ],
   "source": [
    "thresh = 5\n",
    "\n",
    "def rare_word_stats(tokenizer, thresh):\n",
    "    \"\"\"Return total and rare word counts for a given tokenizer.\"\"\"\n",
    "    total_cnt = len(tokenizer.word_counts)\n",
    "    rare_cnt = sum(1 for word, count in tokenizer.word_counts.items() if count < thresh)\n",
    "    return total_cnt, rare_cnt\n",
    "\n",
    "\n",
    "x_tot_cnt, x_cnt = rare_word_stats(x_tokenizer, thresh)\n",
    "y_tot_cnt, y_cnt = rare_word_stats(y_tokenizer, thresh)\n",
    "\n",
    "print(f\"% of rare words in X vocabulary: {(x_cnt / x_tot_cnt) * 100:.2f}%\")\n",
    "print(f\"% of rare words in Y vocabulary: {(y_cnt / y_tot_cnt) * 100:.2f}%\")"
   ]
  },
  {
   "cell_type": "code",
   "execution_count": 14,
   "id": "afea5a20",
   "metadata": {
    "execution": {
     "iopub.execute_input": "2025-10-10T19:19:45.366956Z",
     "iopub.status.busy": "2025-10-10T19:19:45.366628Z",
     "iopub.status.idle": "2025-10-10T19:19:59.967750Z",
     "shell.execute_reply": "2025-10-10T19:19:59.966820Z"
    },
    "papermill": {
     "duration": 14.609372,
     "end_time": "2025-10-10T19:19:59.969302",
     "exception": false,
     "start_time": "2025-10-10T19:19:45.359930",
     "status": "completed"
    },
    "tags": []
   },
   "outputs": [
    {
     "name": "stdout",
     "output_type": "stream",
     "text": [
      "Size of vocabulary in X = 36564\n",
      "Size of vocabulary in Y = 13740\n"
     ]
    }
   ],
   "source": [
    "# Create tokenizers considering only frequent words\n",
    "x_tokenizer = Tokenizer(num_words = x_tot_cnt - x_cnt) \n",
    "x_tokenizer.fit_on_texts(list(x_train))\n",
    "\n",
    "y_tokenizer = Tokenizer(num_words=y_tot_cnt-y_cnt) \n",
    "y_tokenizer.fit_on_texts(list(y_train))\n",
    "\n",
    "# Convert text to sequences of integers\n",
    "x_train_seq = x_tokenizer.texts_to_sequences(x_train) \n",
    "x_val_seq = x_tokenizer.texts_to_sequences(x_val)\n",
    "\n",
    "y_train_seq = y_tokenizer.texts_to_sequences(y_train) \n",
    "y_val_seq = y_tokenizer.texts_to_sequences(y_val) \n",
    "\n",
    "# Pad sequences\n",
    "x_train = pad_sequences(x_train_seq,  maxlen=max_text_len, padding='post')\n",
    "x_val = pad_sequences(x_val_seq, maxlen=max_text_len, padding='post')\n",
    "\n",
    "y_train = pad_sequences(y_train_seq, maxlen=max_summary_len, padding='post')\n",
    "y_val = pad_sequences(y_val_seq, maxlen=max_summary_len, padding='post')\n",
    "\n",
    "# Vocab. size (+1 for padding token)\n",
    "x_voc_size = x_tokenizer.num_words + 1\n",
    "y_voc_size = y_tokenizer.num_words + 1\n",
    "\n",
    "print(\"Size of vocabulary in X = {}\".format(x_voc_size))\n",
    "print(\"Size of vocabulary in Y = {}\".format(y_voc_size))"
   ]
  },
  {
   "cell_type": "code",
   "execution_count": 15,
   "id": "1d96cc17",
   "metadata": {
    "execution": {
     "iopub.execute_input": "2025-10-10T19:19:59.982444Z",
     "iopub.status.busy": "2025-10-10T19:19:59.981972Z",
     "iopub.status.idle": "2025-10-10T19:20:00.042965Z",
     "shell.execute_reply": "2025-10-10T19:20:00.041856Z"
    },
    "papermill": {
     "duration": 0.069754,
     "end_time": "2025-10-10T19:20:00.045115",
     "exception": false,
     "start_time": "2025-10-10T19:19:59.975361",
     "status": "completed"
    },
    "tags": []
   },
   "outputs": [],
   "source": [
    "# Finally remove from the dataset empty summaries that contain only the 'START' and 'END' tokens\n",
    "\n",
    "x_train = x_train[np.sum(y_train != 0, axis=1) > 2]\n",
    "y_train = y_train[np.sum(y_train != 0, axis=1) > 2]\n",
    "\n",
    "x_val = x_val[np.sum(y_val != 0, axis=1) > 2]\n",
    "y_val = y_val[np.sum(y_val != 0, axis=1) > 2]\n"
   ]
  }
 ],
 "metadata": {
  "kaggle": {
   "accelerator": "none",
   "dataSources": [
    {
     "datasetId": 1895,
     "sourceId": 791838,
     "sourceType": "datasetVersion"
    },
    {
     "isSourceIdPinned": false,
     "modelId": 467036,
     "modelInstanceId": 450686,
     "sourceId": 601396,
     "sourceType": "modelInstanceVersion"
    }
   ],
   "dockerImageVersionId": 31089,
   "isGpuEnabled": false,
   "isInternetEnabled": true,
   "language": "python",
   "sourceType": "notebook"
  },
  "kernelspec": {
   "display_name": "Python 3",
   "language": "python",
   "name": "python3"
  },
  "language_info": {
   "codemirror_mode": {
    "name": "ipython",
    "version": 3
   },
   "file_extension": ".py",
   "mimetype": "text/x-python",
   "name": "python",
   "nbconvert_exporter": "python",
   "pygments_lexer": "ipython3",
   "version": "3.11.13"
  },
  "papermill": {
   "default_parameters": {},
   "duration": 62.757907,
   "end_time": "2025-10-10T19:20:02.953313",
   "environment_variables": {},
   "exception": null,
   "input_path": "__notebook__.ipynb",
   "output_path": "__notebook__.ipynb",
   "parameters": {},
   "start_time": "2025-10-10T19:19:00.195406",
   "version": "2.6.0"
  }
 },
 "nbformat": 4,
 "nbformat_minor": 5
}
